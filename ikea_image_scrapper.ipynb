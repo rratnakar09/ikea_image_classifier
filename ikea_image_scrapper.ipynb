{
 "cells": [
  {
   "cell_type": "markdown",
   "metadata": {},
   "source": [
    "# __Ikea Image Scrapper__\n",
    "\n",
    "This notebook will be used to scrap images from ikea website. There are four categories of images that we will download,\n",
    "1. TV Media Storage\n",
    "2. Table\n",
    "3. Chair\n",
    "4. Wardrobes\n",
    "\n",
    "I will use Beautiful Soup which is a Python library for pulling data out of HTML and XML files. It works with the favorite parsers to provide idiomatic ways of navigating, searching, and modifying the parse tree.\n",
    "There is an awesome video tutorial available on youtube which will be helpful to extract data from any sites using Web Scraping with BeautifulSoup and Requests. \n",
    "\n",
    "### Python Tutorial: Web Scraping with BeautifulSoup and Requests by  Corey Schafer\n",
    "link: https://www.youtube.com/watch?v=ng2o98k983k"
   ]
  },
  {
   "cell_type": "markdown",
   "metadata": {},
   "source": [
    "## Import the packages"
   ]
  },
  {
   "cell_type": "code",
   "execution_count": 4,
   "metadata": {},
   "outputs": [],
   "source": [
    "import urllib\n",
    "import bs4\n",
    "from urllib.request import urlopen as uReq\n",
    "from bs4 import BeautifulSoup as soup\n",
    "import os\n",
    "from string import ascii_lowercase"
   ]
  },
  {
   "cell_type": "code",
   "execution_count": 5,
   "metadata": {},
   "outputs": [],
   "source": [
    "# create lists which to store the different urls\n",
    "ikea_tv_media_storage_list =[]\n",
    "ikea_table_list =[]\n",
    "ikea_chair_list =[]\n",
    "ikea_wardrobes_list =[]\n",
    "\n",
    "# This will store all the urls for every images that will be extracted.\n",
    "url_list = []"
   ]
  },
  {
   "cell_type": "markdown",
   "metadata": {},
   "source": [
    "I have manually used the urls for diffrent categories and sub categories to get the images of different\n",
    "types types of a products. For example for table there are sub categories like dining table, coffee tables, bar tables etc. "
   ]
  },
  {
   "cell_type": "code",
   "execution_count": 6,
   "metadata": {},
   "outputs": [],
   "source": [
    "tv_media_storage_url = \"https://www.ikea.com/in/en/cat/tv-media-furniture-10475\"\n",
    "ikea_tv_media_storage_list.append(tv_media_storage_url)\n",
    "\n",
    "table_01_url = \"https://www.ikea.com/in/en/cat/dining-tables-21825\"\n",
    "ikea_table_list.append(table_01_url)\n",
    "table_02_url = \"https://www.ikea.com/in/en/cat/coffee-side-tables-10705\"\n",
    "ikea_table_list.append(table_02_url)\n",
    "table_03_url = \"https://www.ikea.com/in/en/cat/bar-tables-20862\"\n",
    "ikea_table_list.append(table_03_url)\n",
    "table_04_url = \"https://www.ikea.com/in/en/cat/dining-tables-21965\"\n",
    "ikea_table_list.append(table_04_url)\n",
    "\n",
    "chair_01_url = \"https://www.ikea.com/in/en/cat/armchairs-chaise-longues-16239\" \n",
    "ikea_chair_list.append(chair_01_url)\n",
    "chair_02_url = \"https://www.ikea.com/in/en/cat/cafe-chairs-19144\"\n",
    "ikea_chair_list.append(chair_02_url)\n",
    "chair_03_url = \"https://www.ikea.com/in/en/cat/dining-chairs-25219\"\n",
    "ikea_chair_list.append(chair_03_url)\n",
    "chair_04_url = \"https://www.ikea.com/in/en/cat/office-chairs-20652\"\n",
    "ikea_chair_list.append(chair_04_url)\n",
    "chair_05_url = \"https://www.ikea.com/in/en/cat/bar-chairs-20864/\"\n",
    "ikea_chair_list.append(chair_05_url)\n",
    "\n",
    "wardrobes_01_url = \"https://www.ikea.com/in/en/cat/pax-wardrobes-without-doors-19110\"\n",
    "ikea_wardrobes_list.append(wardrobes_01_url)\n",
    "wardrobes_02_url = \"https://www.ikea.com/in/en/cat/pax-frames-for-hinge-doors-19106\"\n",
    "ikea_wardrobes_list.append(wardrobes_02_url)\n",
    "wardrobes_03_url = \"https://www.ikea.com/in/en/cat/pax-frames-for-sliding-doors-20087\"\n",
    "ikea_wardrobes_list.append(wardrobes_03_url)"
   ]
  },
  {
   "cell_type": "code",
   "execution_count": 7,
   "metadata": {},
   "outputs": [],
   "source": [
    "# Append all the urls of different categories into one url list \n",
    "url_list.append(ikea_tv_media_storage_list)\n",
    "url_list.append(ikea_table_list)\n",
    "url_list.append(ikea_chair_list)\n",
    "url_list.append(ikea_wardrobes_list)"
   ]
  },
  {
   "cell_type": "code",
   "execution_count": 8,
   "metadata": {},
   "outputs": [],
   "source": [
    "# create a dictionary for diffrent categories\n",
    "class_dict = {0:\"tv_storage\",\n",
    "             1:\"table\",\n",
    "             2:\"chair\",\n",
    "             3:\"wardrobes\"}\n",
    "path_list = []\n",
    "curr_dir = os.getcwd()\n",
    "\n",
    "# create a path for dataset dir\n",
    "dataset_dir = curr_dir + '/dataset'\n",
    "for i in range(len(class_dict)):\n",
    "    folder_name = class_dict[i]\n",
    "    # folders where image are/will saved\n",
    "    path = os.path.join(dataset_dir,folder_name)\n",
    "    #print(path)\n",
    "    if not os.path.exists(path):\n",
    "        os.makedirs(path)\n",
    "        path_list.append(path)\n",
    "    else:    \n",
    "        path_list.append(path)"
   ]
  },
  {
   "cell_type": "code",
   "execution_count": 9,
   "metadata": {},
   "outputs": [
    {
     "data": {
      "text/plain": [
       "['/home/raman/Environtments/dl/work_dl/ml/projects/ikea_image_classifier/dataset/tv_storage',\n",
       " '/home/raman/Environtments/dl/work_dl/ml/projects/ikea_image_classifier/dataset/table',\n",
       " '/home/raman/Environtments/dl/work_dl/ml/projects/ikea_image_classifier/dataset/chair',\n",
       " '/home/raman/Environtments/dl/work_dl/ml/projects/ikea_image_classifier/dataset/wardrobes']"
      ]
     },
     "execution_count": 9,
     "metadata": {},
     "output_type": "execute_result"
    }
   ],
   "source": [
    "# print the path where images will be stored\n",
    "path_list"
   ]
  },
  {
   "cell_type": "code",
   "execution_count": 10,
   "metadata": {},
   "outputs": [],
   "source": [
    "# store the images into respective folders\n",
    "image_url_list = []\n",
    "\n",
    "class_dict = {0:\"tv_storage\",\n",
    "                 1:\"table\",\n",
    "                 2:\"chair\",\n",
    "                 3:\"wardrobes\"}\n",
    "\n",
    "for i in range(len(url_list)):\n",
    "    folder_name = class_dict[i] \n",
    "    image_name = class_dict[i]\n",
    "    for url_link in url_list[i]:\n",
    "        image_count=0\n",
    "        temp_link = url_link\n",
    "        uClient = uReq(temp_link)\n",
    "        page_html = uClient.read()\n",
    "        uClient.close()\n",
    "        page_soup = soup(page_html, \"html.parser\")\n",
    "        containers = page_soup.findAll(\"div\", {\"class\":\"product-compact\"})\n",
    "        for container in containers:\n",
    "            image_url = container.div.a.div.div.div.img[\"src\"]\n",
    "            image_url_list.append(image_url)\n",
    "\n",
    "            #filename =  \"/resources/datasets/\" + image_name + str(image_count)\n",
    "            #print(filename)\n",
    "            file_name = image_name + str(image_count) + \".jpeg\"\n",
    "            save_path = os.path.join(path_list[i], file_name)\n",
    "            #filename = image_name + str(image_count)\n",
    "            try:\n",
    "                with open(save_path, 'wb+') as image_file:\n",
    "                    #print(image_url)\n",
    "                    image_file.write(urllib.request.urlopen(image_url).read())\n",
    "                    image_file.close()\n",
    "            except OSError as e:\n",
    "                pass\n",
    "            image_count=image_count+1"
   ]
  },
  {
   "cell_type": "code",
   "execution_count": null,
   "metadata": {},
   "outputs": [],
   "source": []
  }
 ],
 "metadata": {
  "kernelspec": {
   "display_name": "Python 3",
   "language": "python",
   "name": "python3"
  },
  "language_info": {
   "codemirror_mode": {
    "name": "ipython",
    "version": 3
   },
   "file_extension": ".py",
   "mimetype": "text/x-python",
   "name": "python",
   "nbconvert_exporter": "python",
   "pygments_lexer": "ipython3",
   "version": "3.6.9"
  }
 },
 "nbformat": 4,
 "nbformat_minor": 4
}
